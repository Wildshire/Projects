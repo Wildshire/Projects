{
 "cells": [
  {
   "cell_type": "markdown",
   "metadata": {},
   "source": [
    "# Wavelet\n",
    "*  Jose Gonzalez Lopez\n",
    "*  Mykola Liashuha"
   ]
  },
  {
   "cell_type": "code",
   "execution_count": 4,
   "metadata": {},
   "outputs": [],
   "source": [
    "import scipy #Library for signal analysis\n",
    "import matplotlib.pyplot as plt #Plot\n",
    "import numpy as np #Operations\n",
    "import cv2 #Read images and do operations\n",
    "import IPython.display as ipd\n",
    "import numpy.random #For generating noise\n",
    "\n",
    "from scipy.io import wavfile #Read wavfiles\n",
    "from scipy.signal import welch,stft,istft #Get power density estimated, short fourier transform"
   ]
  },
  {
   "cell_type": "code",
   "execution_count": 5,
   "metadata": {},
   "outputs": [],
   "source": [
    "'''\n",
    "Signal-to-noise ratio\n",
    "x: original signal\n",
    "y: changed(noisy) signal\n",
    "'''\n",
    "def snr(x, y):\n",
    "    return 20*np.log10(np.mean(np.abs(x))/np.mean(np.abs(x-y)))"
   ]
  },
  {
   "cell_type": "code",
   "execution_count": 7,
   "metadata": {},
   "outputs": [],
   "source": [
    "img = cv2.imread('barbara.jpg')\n",
    "gray = cv2.cvtColor(img, cv2.COLOR_BGR2GRAY)\n"
   ]
  },
  {
   "cell_type": "code",
   "execution_count": 13,
   "metadata": {},
   "outputs": [],
   "source": [
    "stds = [130,70,40, 24,13]\n",
    "noisy_imgs=[]\n",
    "for std in stds:\n",
    "    noise = numpy.random.normal(0, 1, size=gray.shape)\n",
    "    img_noise = gray + std*noise\n",
    "    noisy_imgs.append(img_noise)"
   ]
  },
  {
   "cell_type": "code",
   "execution_count": null,
   "metadata": {},
   "outputs": [],
   "source": []
  }
 ],
 "metadata": {
  "kernelspec": {
   "display_name": "Python 3",
   "language": "python",
   "name": "python3"
  },
  "language_info": {
   "codemirror_mode": {
    "name": "ipython",
    "version": 3
   },
   "file_extension": ".py",
   "mimetype": "text/x-python",
   "name": "python",
   "nbconvert_exporter": "python",
   "pygments_lexer": "ipython3",
   "version": "3.6.10"
  }
 },
 "nbformat": 4,
 "nbformat_minor": 4
}
