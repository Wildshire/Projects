{
  "nbformat": 4,
  "nbformat_minor": 0,
  "metadata": {
    "colab": {
      "name": "FIRFilter.ipynb",
      "provenance": [],
      "authorship_tag": "ABX9TyOxuNAWd576BAGpBiSgD2wm"
    },
    "kernelspec": {
      "name": "python3",
      "display_name": "Python 3"
    },
    "language_info": {
      "name": "python"
    }
  },
  "cells": [
    {
      "cell_type": "markdown",
      "metadata": {
        "id": "42uP8aBz9kLL"
      },
      "source": [
        "#FIRFilter\n",
        " \n",
        "\n",
        "*   Mykola Liashuha\n",
        "*   Jose Gonzalez Lopez\n",
        "\n"
      ]
    },
    {
      "cell_type": "markdown",
      "metadata": {
        "id": "E3WMbtwj93cC"
      },
      "source": [
        "#Introduction\n",
        "In this work we will use the audio from the previous exercise to create a FIR delay effect. First, we will determine the impulse response of the filter. Next, the frequency response of the filter will be calculated. After that,the delay effect will be applied to the audio. Last, we will conclude the notebook by wraping up all the concepts explored in the exercise.\n"
      ]
    },
    {
      "cell_type": "markdown",
      "metadata": {
        "id": "KpqAIgJI9L8I"
      },
      "source": [
        "#Imports"
      ]
    },
    {
      "cell_type": "code",
      "metadata": {
        "id": "q0UuDotA9DZO"
      },
      "source": [
        "import numpy as np #Numpy for calculations\n",
        "import sklearn #Use this library to normalize\n",
        "import math #For calculations\n",
        "from scipy.io import wavfile #Read wav files\n",
        "from matplotlib import pyplot as plt #Plots\n",
        "from scipy.fft import fft, ifft,fftfreq #Fourier transform"
      ],
      "execution_count": 1,
      "outputs": []
    },
    {
      "cell_type": "markdown",
      "metadata": {
        "id": "JiESucd69fPs"
      },
      "source": [
        "#Auxiliar Functions"
      ]
    },
    {
      "cell_type": "code",
      "metadata": {
        "id": "JEnZtzYr98t7"
      },
      "source": [
        "#Code here"
      ],
      "execution_count": 2,
      "outputs": []
    },
    {
      "cell_type": "markdown",
      "metadata": {
        "id": "CfJRATK69-1f"
      },
      "source": [
        "#The Filter\n",
        "Our main goal is to implement the following FIR delay effect using the formula:\n",
        "\n",
        "$s[t]=e[t]+αe[t−D]$\n",
        "\n",
        "where α is the attenuation factor, $D$ is the time delay, $s$ is the output signal and $e$ the input. Our first objective will be to get the impulse response of the filter ($h[t]$). Let's assume that $α=0.1$ and $D=1$. Our formula now will be:\n",
        "\n",
        "$s[t]=e[t]+0.1 \\cdot e[t−1]$\n",
        "\n",
        "We will also assume that the signal is causal and stable. Having that:\n",
        "\n",
        "$s[0]=e[0]$\n",
        "\n",
        "$s[1]=e[1]+0.1 \\cdot e[0]$\n",
        "\n",
        "$s[2]=e[2]+0.1 \\cdot e[1]$\n",
        "\n",
        "$s[3]=e[3]+0.1 \\cdot e[2]$\n",
        "\n",
        "And so on, then the impulse respond will be:\n",
        "\n",
        "$h[t]=\\delta[t] + \\cdot 0.1 \\delta[t-1]$\n",
        "\n",
        "Where $\\delta[t]$ is the dirac function"
      ]
    },
    {
      "cell_type": "code",
      "metadata": {
        "id": "LBhQvx4c-E2y"
      },
      "source": [
        "samplerate, data = wavfile.read('string_1.wav') #Read the data stream and get samplerate\n",
        "ALPHA=0.1 #Attenuation Factor\n",
        "DELAY=1 #Time delay"
      ],
      "execution_count": 3,
      "outputs": []
    },
    {
      "cell_type": "markdown",
      "metadata": {
        "id": "cdKh0siQBhRi"
      },
      "source": [
        "#References\n",
        "[How to calculate the impulse response](https://dsp.stackexchange.com/questions/53512/how-to-find-the-impulse-response-of-a-filter-given-the-difference-equation)"
      ]
    }
  ]
}